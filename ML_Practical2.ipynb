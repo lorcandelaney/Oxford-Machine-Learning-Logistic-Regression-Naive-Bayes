{
 "cells": [
  {
   "cell_type": "markdown",
   "metadata": {},
   "source": [
    "<p style=\"font-size:25px;font-weight:bold \">Practical 2 : Generative and Discriminative Models</p>"
   ]
  },
  {
   "cell_type": "markdown",
   "metadata": {},
   "source": [
    "Imports"
   ]
  },
  {
   "cell_type": "code",
   "execution_count": 5,
   "metadata": {},
   "outputs": [],
   "source": [
    "import numpy as np\n",
    "import pandas as pd\n",
    "import matplotlib.pyplot as plt\n",
    "import warnings\n",
    "warnings.filterwarnings('ignore')\n",
    "\n",
    "from sklearn.linear_model import LogisticRegression\n",
    "from sklearn.naive_bayes import GaussianNB, BernoulliNB"
   ]
  },
  {
   "cell_type": "markdown",
   "metadata": {},
   "source": [
    "Useful functions"
   ]
  },
  {
   "cell_type": "code",
   "execution_count": 6,
   "metadata": {},
   "outputs": [],
   "source": [
    "def compare(list1,list2):\n",
    "    somme = 0\n",
    "    for i in range(len(list1)):\n",
    "        if list1[i] != list2[i]:\n",
    "            somme+=1\n",
    "    return somme/len(list1)\n",
    "\n",
    "def MLE_gaussian(data):\n",
    "    mu = np.mean(data)\n",
    "    sigma = np.var(data)\n",
    "    if sigma < 1e-6:\n",
    "        sigma = 1e-6\n",
    "    return mu, sigma\n",
    "\n",
    "def MLE_laplacian(data):\n",
    "    mu = np.mean(data)\n",
    "    b = np.mean(np.abs(data-mu))\n",
    "    if b < 1e-6:\n",
    "        b = 1e-6\n",
    "    return mu, b\n",
    "    \n",
    "\n",
    "def simulate_distribution(data, parameter):\n",
    "    \n",
    "    for distribution in list(parameter.keys()):\n",
    "        if distribution == \"gaussian\":\n",
    "            mu, sigma = parameter[distribution][0], parameter[distribution][1]\n",
    "            return np.exp(-(data-mu)**2/(2 * sigma)) / np.sqrt(2*np.pi*sigma**2)\n",
    "\n",
    "        elif distribution == \"bernouilli\":\n",
    "            p = parameter[distribution]\n",
    "            return (1-p) * data + p * (1 - data)\n",
    "            "
   ]
  },
  {
   "cell_type": "markdown",
   "metadata": {},
   "source": [
    "<h2>Naïve Bayes Classifier</h2>"
   ]
  },
  {
   "cell_type": "markdown",
   "metadata": {},
   "source": [
    "<h3>Definition of the NBC class</h3>"
   ]
  },
  {
   "cell_type": "code",
   "execution_count": 7,
   "metadata": {},
   "outputs": [],
   "source": [
    "class NBC:\n",
    "    \"\"\"\n",
    "    features_types:\n",
    "            - r: real-valued\n",
    "            - m: multivariate (takes value between 1 and K) ##To add support\n",
    "            - b: binary (takes value in {0,1})\n",
    "    \n",
    "    \n",
    "    \n",
    "    \"\"\"\n",
    "\n",
    "    def __init__(self, features_types, num_classes):\n",
    "        self.features_types = features_types\n",
    "        self.num_classes = num_classes\n",
    "        self.parameters = [[[] for j in range(len(features_types))] for i in range(num_classes)]\n",
    "        self.pi = np.zeros(num_classes)\n",
    "        self.dictionary_categories = None\n",
    "    def reset(self):\n",
    "        self.parameters = [[[] for j in range(len(features_types))] for i in range(num_classes)]\n",
    "        self.pi = np.zeros(num_classes)\n",
    "        \n",
    "    def fit(self, x_train, y_train):\n",
    "        \n",
    "        x_train = pd.DataFrame(x_train)\n",
    "        y_train = pd.DataFrame(y_train)\n",
    "        x_train = pd.concat([x_train, y_train], axis =1, ignore_index  = True)\n",
    "        \n",
    "        \"\"\"\n",
    "        ##turn categories to 0,1, ...K-1\n",
    "        multinomial_features = []\n",
    "        for j, features_types in enumerate(self.features_types):\n",
    "            categories = x_train[x_train.columns[j]].unique()\n",
    "            categories_index = [i for i in range(len(categories))]\n",
    "            dictionary_categories = {categories[i]:categories_index[i] for i in range(len(categories))}\n",
    "            \n",
    "            multinomial_features.append(categories)\n",
    "            x_train[x_train.columns[j]] = x_train[x_train.columns[j]].map(dictionary_categories)\n",
    "            \n",
    "        self.dictionary_categories = dictionary_categories\n",
    "        \"\"\"\n",
    "        \n",
    "        for c in range(self.num_classes):\n",
    "        ##fits parameter from feature j\n",
    "            x_train_c = x_train.loc[x_train[x_train.columns[-1]] == c]\n",
    "            self.pi[c] = len(x_train_c) / len(x_train)\n",
    "            \n",
    "            category_idx = 0\n",
    "            \n",
    "            for j, feature in enumerate(self.features_types):\n",
    "                x_train_j_c = x_train_c[x_train_c.columns[j]]\n",
    "            ##fits parameter from feature j\n",
    "                if feature == \"r\":\n",
    "                    ##there is two options: gaussian or laplace distribution.\n",
    "                    mu_j_c, sigma_j_c = MLE_gaussian(x_train_j_c)\n",
    "\n",
    "                    mu_j_c, b_j_c = MLE_laplacian(x_train_j_c)\n",
    "                    \n",
    "                    self.parameters[c][j] = {\"gaussian\": [mu_j_c, sigma_j_c],\n",
    "                                             \"laplacian\": [mu_j_c, b_j_c]}\n",
    "                    \n",
    "                if feature == \"b\":\n",
    "                    p_j_c = ((1-np.mean(x_train_j_c) ) * N + 1) / (N+2) ##Additive smoothing\n",
    "                    self.parameters[c][j] = {\"bernouilli\": p_j_c}\n",
    "                if feature == \"m\":\n",
    "                    ##TODO: implement\n",
    "                    print(\"not implemented yet\")\n",
    "                     \n",
    "    \n",
    "    \n",
    "    def predict(self, x_test):\n",
    "        \"\"\"predicts y_test\"\"\"\n",
    "        x_test = pd.DataFrame(x_test)\n",
    "        #for j in range(len(x_test)):\n",
    "        #    x_test[x_test.columns[j]] = x_test[x_test.columns[j]].map(self.dictionary_categories)\n",
    "\n",
    "        best_c = -1 * np.ones(len(x_test), dtype=np.int32)\n",
    "        best_log_p_y_c = - np.infty * np.ones(len(x_test))\n",
    "        for c in range(self.num_classes):\n",
    "            log_p_y_c = np.log(self.pi[c])\n",
    "            parameters_c = self.parameters[c]\n",
    "            for d in range(len(parameters_c)):\n",
    "                x_test_d =  x_test[d].values\n",
    "                log_p_y_c += np.log(simulate_distribution(x_test_d, parameters_c[d]))\n",
    "            for i in range(len(x_test)):\n",
    "                if log_p_y_c[i] > best_log_p_y_c[i]:\n",
    "                    best_log_p_y_c[i] = log_p_y_c[i]\n",
    "                    best_c[i] = c\n",
    "        return best_c\n",
    "            "
   ]
  },
  {
   "cell_type": "markdown",
   "metadata": {},
   "source": [
    "<h2>Logistic Regression</h2>"
   ]
  },
  {
   "cell_type": "markdown",
   "metadata": {},
   "source": [
    "<h3>Handin 1: In the lectures, we only formulated the negative log-likelihood for logistic regression\n",
    "without adding any regularization term. As per the formulation used in the lectures, if you\n",
    "wanted to add $w^Tw$ as a regularization to the negative log-likelihood of observing the data,\n",
    "and set $\\lambda = 0.1$, what value of C would you set in the sklearn implementation?</h3>"
   ]
  },
  {
   "cell_type": "markdown",
   "metadata": {},
   "source": [
    "C is the inverse of the regularization. We then have to specify C = 5"
   ]
  },
  {
   "cell_type": "markdown",
   "metadata": {},
   "source": [
    "<h2>Comparing NBC and LR</h2>"
   ]
  },
  {
   "cell_type": "markdown",
   "metadata": {},
   "source": [
    "<h3>Iris Dataset</h3>"
   ]
  },
  {
   "cell_type": "markdown",
   "metadata": {},
   "source": [
    "Load data"
   ]
  },
  {
   "cell_type": "code",
   "execution_count": 17,
   "metadata": {},
   "outputs": [],
   "source": [
    "from sklearn.datasets import load_iris\n",
    "iris = load_iris()\n",
    "X_train, y_train = iris['data'], iris['target']\n"
   ]
  },
  {
   "cell_type": "markdown",
   "metadata": {},
   "source": [
    "Experiments"
   ]
  },
  {
   "cell_type": "code",
   "execution_count": 18,
   "metadata": {},
   "outputs": [],
   "source": [
    "features_types = [\"r\", \"r\", \"r\", \"r\"]\n",
    "num_classes = 3\n",
    "\n",
    "number_trials = 1000 ##we will average classification error\n",
    "classification_error_NBC = [0 for i in range(10)]\n",
    "classification_error_lR = [0 for i in range(10)]\n",
    "classification_error_NBC_sklearn = [0 for i in range(10)]\n",
    "\n",
    "for trial in range(number_trials):\n",
    "    N, D = X_train.shape\n",
    "    Ntrain = int(0.8 * N)\n",
    "    shuffler = np.random.permutation(N)\n",
    "    Xtrain = X_train[shuffler[:Ntrain]]\n",
    "    ytrain = y_train[shuffler[:Ntrain]]\n",
    "    Xtest = X_train[shuffler[Ntrain:]]\n",
    "    ytest = y_train[shuffler[Ntrain:]]\n",
    "    for k in range(1,11):\n",
    "        lR = LogisticRegression(solver='newton-cg',C = 5, multi_class='multinomial') ##chanted lbdgs to newton-cg solver\n",
    "        nbc = NBC(features_types, num_classes)\n",
    "        nbc_sklearn = GaussianNB()\n",
    "        \n",
    "        lR.fit(Xtrain[:int(k * len(Xtrain) / 10)], ytrain[:int(k * len(Xtrain) / 10)])\n",
    "        nbc.fit(Xtrain[:int(k * len(Xtrain) / 10)], ytrain[:int(k * len(Xtrain) / 10)])\n",
    "        nbc_sklearn.fit(Xtrain[:int(k * len(Xtrain) / 10)], ytrain[:int(k * len(Xtrain) / 10)])\n",
    "        ytest_hat_lr = lR.predict(Xtest)\n",
    "        ytest_hat_nbc = nbc.predict(Xtest)\n",
    "      \n",
    "        ytest_hat_nbc_sklearn = nbc_sklearn.predict(Xtest)\n",
    "\n",
    "        classification_error_lR[k-1]+=compare(ytest_hat_lr, ytest)/number_trials\n",
    "        classification_error_NBC[k-1]+=compare(ytest_hat_nbc, ytest)/number_trials\n",
    "        classification_error_NBC_sklearn[k-1]+=compare(ytest_hat_nbc_sklearn, ytest)/number_trials"
   ]
  },
  {
   "cell_type": "markdown",
   "metadata": {},
   "source": [
    "Handin 2"
   ]
  },
  {
   "cell_type": "code",
   "execution_count": 19,
   "metadata": {},
   "outputs": [
    {
     "data": {
      "image/png": "[encoded data removed]",
      "text/plain": [
       "<Figure size 432x288 with 1 Axes>"
      ]
     },
     "metadata": {
      "needs_background": "light"
     },
     "output_type": "display_data"
    }
   ],
   "source": [
    "plt.plot([i for i in range (1,11)], classification_error_NBC,\"b\")\n",
    "plt.plot([i for i in range (1,11)], classification_error_lR, \"r\")\n",
    "plt.plot([i for i in range (1,11)], classification_error_NBC_sklearn, \"g\")\n",
    "\n",
    "plt.xticks(np.arange(1, 11, 1))\n",
    "plt.ylabel(\"Error\")\n",
    "plt.xlabel(\"k\")\n",
    "plt.title(\"Error of the classifiers using 10k% of training data\")\n",
    "plt.legend([\"NBC\", \"LR\", \"NBC_sklearn\"])\n",
    "plt.show()"
   ]
  },
  {
   "cell_type": "markdown",
   "metadata": {},
   "source": [
    "<h3>Congressional Voting Records Dataset</h3>"
   ]
  },
  {
   "cell_type": "code",
   "execution_count": 11,
   "metadata": {},
   "outputs": [],
   "source": [
    "import _pickle as cp\n",
    "import numpy as np\n",
    "X_train, y_train = cp.load(open('voting.pickle', 'rb'))\n"
   ]
  },
  {
   "cell_type": "code",
   "execution_count": 14,
   "metadata": {},
   "outputs": [],
   "source": [
    "features_types = [\"b\" for i in range(len(X_train[0]))]\n",
    "num_classes = 2\n",
    "\n",
    "number_trials = 1000 ##we will average classification error\n",
    "classification_error_NBC = [0 for i in range(10)]\n",
    "classification_error_lR = [0 for i in range(10)]\n",
    "classification_error_NBC_sklearn = [0 for i in range(10)]\n",
    "\n",
    "\n",
    "for trial in range(number_trials):\n",
    "    N, D = X_train.shape\n",
    "    Ntrain = int(0.8 * N)\n",
    "    shuffler = np.random.permutation(N)\n",
    "    Xtrain = X_train[shuffler[:Ntrain]]\n",
    "    ytrain = y_train[shuffler[:Ntrain]]\n",
    "    Xtest = X_train[shuffler[Ntrain:]]\n",
    "    ytest = y_train[shuffler[Ntrain:]]\n",
    "    for k in range(1,11):\n",
    "        lR = LogisticRegression(random_state=0, solver='lbfgs',C = 10, multi_class='multinomial')\n",
    "        nbc = NBC(features_types, num_classes)\n",
    "        nbc_sklearn = BernoulliNB()\n",
    "        \n",
    "        lR.fit(Xtrain[:int(k * len(Xtrain) / 10)], ytrain[:int(k * len(Xtrain) / 10)])\n",
    "        nbc.fit(Xtrain[:int(k * len(Xtrain) / 10)], ytrain[:int(k * len(Xtrain) / 10)])\n",
    "        nbc_sklearn.fit(Xtrain[:int(k * len(Xtrain) / 10)], ytrain[:int(k * len(Xtrain) / 10)])\n",
    "        ytest_hat_lr = lR.predict(Xtest)\n",
    "        ytest_hat_nbc = nbc.predict(Xtest)\n",
    "        ytest_hat_nbc_sklearn = nbc_sklearn.predict(Xtest)\n",
    "        classification_error_lR[k-1]+=compare(ytest_hat_lr, ytest)/number_trials\n",
    "        classification_error_NBC[k-1]+=compare(ytest_hat_nbc, ytest)/number_trials\n",
    "        classification_error_NBC_sklearn[k-1]+=compare(ytest_hat_nbc_sklearn, ytest)/number_trials"
   ]
  },
  {
   "cell_type": "code",
   "execution_count": 15,
   "metadata": {},
   "outputs": [
    {
     "data": {
      "image/png": "[encoded data removed]",
      "text/plain": [
       "<Figure size 432x288 with 1 Axes>"
      ]
     },
     "metadata": {
      "needs_background": "light"
     },
     "output_type": "display_data"
    }
   ],
   "source": [
    "plt.plot([i for i in range (1,11)], classification_error_NBC,\"b\")\n",
    "plt.plot([i for i in range (1,11)], classification_error_lR, \"r\")\n",
    "plt.plot([i for i in range (1,11)], classification_error_NBC_sklearn, \"g\")\n",
    "\n",
    "\n",
    "plt.xticks(np.arange(1, 11, 1))\n",
    "plt.ylabel(\"Error\")\n",
    "plt.xlabel(\"k\")\n",
    "plt.title(\"Error of the classifiers using 10k% of training data\")\n",
    "plt.legend([\"NBC\", \"LR\", \"NBC_sklearn\"])\n",
    "plt.show()"
   ]
  },
  {
   "cell_type": "code",
   "execution_count": null,
   "metadata": {},
   "outputs": [],
   "source": []
  }
 ],
 "metadata": {
  "kernelspec": {
   "display_name": "Python 3",
   "language": "python",
   "name": "python3"
  },
  "language_info": {
   "codemirror_mode": {
    "name": "ipython",
    "version": 3
   },
   "file_extension": ".py",
   "mimetype": "text/x-python",
   "name": "python",
   "nbconvert_exporter": "python",
   "pygments_lexer": "ipython3",
   "version": "3.6.4"
  },
  "toc": {
   "base_numbering": 1,
   "nav_menu": {},
   "number_sections": true,
   "sideBar": true,
   "skip_h1_title": false,
   "title_cell": "Table of Contents",
   "title_sidebar": "Contents",
   "toc_cell": false,
   "toc_position": {},
   "toc_section_display": true,
   "toc_window_display": true
  },
  "varInspector": {
   "cols": {
    "lenName": 16,
    "lenType": 16,
    "lenVar": 40
   },
   "kernels_config": {
    "python": {
     "delete_cmd_postfix": "",
     "delete_cmd_prefix": "del ",
     "library": "var_list.py",
     "varRefreshCmd": "print(var_dic_list())"
    },
    "r": {
     "delete_cmd_postfix": ") ",
     "delete_cmd_prefix": "rm(",
     "library": "var_list.r",
     "varRefreshCmd": "cat(var_dic_list()) "
    }
   },
   "types_to_exclude": [
    "module",
    "function",
    "builtin_function_or_method",
    "instance",
    "_Feature"
   ],
   "window_display": false
  }
 },
 "nbformat": 4,
 "nbformat_minor": 2
}
